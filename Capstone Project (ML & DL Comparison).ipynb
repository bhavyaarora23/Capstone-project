{
 "cells": [
  {
   "cell_type": "code",
   "execution_count": 2,
   "metadata": {},
   "outputs": [],
   "source": [
    "import pandas as pd\n",
    "import numpy as np\n",
    "import matplotlib.pyplot as plt"
   ]
  },
  {
   "cell_type": "code",
   "execution_count": 3,
   "metadata": {},
   "outputs": [],
   "source": [
    "from sklearn.model_selection import train_test_split\n",
    "from sklearn.preprocessing import LabelEncoder, StandardScaler\n",
    "from sklearn.ensemble import RandomForestClassifier\n",
    "from sklearn.metrics import classification_report, accuracy_score"
   ]
  },
  {
   "cell_type": "code",
   "execution_count": 4,
   "metadata": {},
   "outputs": [],
   "source": [
    "from tensorflow.keras.models import Sequential\n",
    "from tensorflow.keras.layers import Dense, Dropout\n",
    "from tensorflow.keras.utils import plot_model\n",
    "import tensorflow as tf"
   ]
  },
  {
   "cell_type": "code",
   "execution_count": 5,
   "metadata": {},
   "outputs": [
    {
     "name": "stdout",
     "output_type": "stream",
     "text": [
      "  InvoiceNo StockCode                          Description  Quantity  \\\n",
      "0    536365    85123A   WHITE HANGING HEART T-LIGHT HOLDER         6   \n",
      "1    536365     71053                  WHITE METAL LANTERN         6   \n",
      "2    536365    84406B       CREAM CUPID HEARTS COAT HANGER         8   \n",
      "3    536365    84029G  KNITTED UNION FLAG HOT WATER BOTTLE         6   \n",
      "4    536365    84029E       RED WOOLLY HOTTIE WHITE HEART.         6   \n",
      "\n",
      "      InvoiceDate  UnitPrice  CustomerID         Country  \n",
      "0  12/1/2010 8:26       2.55     17850.0  United Kingdom  \n",
      "1  12/1/2010 8:26       3.39     17850.0  United Kingdom  \n",
      "2  12/1/2010 8:26       2.75     17850.0  United Kingdom  \n",
      "3  12/1/2010 8:26       3.39     17850.0  United Kingdom  \n",
      "4  12/1/2010 8:26       3.39     17850.0  United Kingdom  \n",
      "<class 'pandas.core.frame.DataFrame'>\n",
      "RangeIndex: 541909 entries, 0 to 541908\n",
      "Data columns (total 8 columns):\n",
      " #   Column       Non-Null Count   Dtype  \n",
      "---  ------       --------------   -----  \n",
      " 0   InvoiceNo    541909 non-null  object \n",
      " 1   StockCode    541909 non-null  object \n",
      " 2   Description  540455 non-null  object \n",
      " 3   Quantity     541909 non-null  int64  \n",
      " 4   InvoiceDate  541909 non-null  object \n",
      " 5   UnitPrice    541909 non-null  float64\n",
      " 6   CustomerID   406829 non-null  float64\n",
      " 7   Country      541909 non-null  object \n",
      "dtypes: float64(2), int64(1), object(5)\n",
      "memory usage: 33.1+ MB\n",
      "None\n"
     ]
    }
   ],
   "source": [
    "df = pd.read_csv(\"data.csv\", encoding='ISO-8859-1')\n",
    "print(df.head())\n",
    "print(df.info())"
   ]
  },
  {
   "cell_type": "code",
   "execution_count": 6,
   "metadata": {},
   "outputs": [],
   "source": [
    "# Drop rows with missing CustomerID\n",
    "df.dropna(subset=['CustomerID'], inplace=True)\n",
    "\n",
    "# Remove canceled orders (InvoiceNo starting with 'C')\n",
    "df = df[~df['InvoiceNo'].astype(str).str.startswith('C')]\n",
    "\n",
    "# Create binary target: IsPurchase (1 = valid purchase)\n",
    "df['IsPurchase'] = 1  # since canceled invoices are removed\n",
    "\n",
    "# Feature Engineering\n",
    "df['TotalPrice'] = df['Quantity'] * df['UnitPrice']\n",
    "df['InvoiceDate'] = pd.to_datetime(df['InvoiceDate'])\n",
    "df['Hour'] = df['InvoiceDate'].dt.hour\n",
    "df['Weekday'] = df['InvoiceDate'].dt.weekday\n",
    "\n",
    "# Select features\n",
    "features = ['Quantity', 'UnitPrice', 'Hour', 'Weekday', 'Country']\n",
    "df = df[features + ['IsPurchase']]"
   ]
  },
  {
   "cell_type": "code",
   "execution_count": 7,
   "metadata": {},
   "outputs": [],
   "source": [
    "# Encode categorical variable 'Country'\n",
    "df = pd.get_dummies(df, columns=['Country'], drop_first=True)\n",
    "\n",
    "# Split features and target\n",
    "X = df.drop('IsPurchase', axis=1)\n",
    "y = df['IsPurchase']\n",
    "\n",
    "# Standardize numerical features\n",
    "scaler = StandardScaler()\n",
    "X_scaled = scaler.fit_transform(X)\n",
    "\n",
    "# Split train/test\n",
    "X_train, X_test, y_train, y_test = train_test_split(X_scaled, y, test_size=0.2, random_state=42)"
   ]
  },
  {
   "cell_type": "code",
   "execution_count": 8,
   "metadata": {},
   "outputs": [
    {
     "name": "stdout",
     "output_type": "stream",
     "text": [
      "Random Forest Classifier Results\n",
      "              precision    recall  f1-score   support\n",
      "\n",
      "           1       1.00      1.00      1.00     79585\n",
      "\n",
      "    accuracy                           1.00     79585\n",
      "   macro avg       1.00      1.00      1.00     79585\n",
      "weighted avg       1.00      1.00      1.00     79585\n",
      "\n"
     ]
    }
   ],
   "source": [
    "# Machine learning: Random Forest Classifier\n",
    "rf = RandomForestClassifier(n_estimators=100, random_state=42)\n",
    "rf.fit(X_train, y_train)\n",
    "\n",
    "y_pred_rf = rf.predict(X_test)\n",
    "\n",
    "print(\"Random Forest Classifier Results\")\n",
    "print(classification_report(y_test, y_pred_rf))"
   ]
  },
  {
   "cell_type": "code",
   "execution_count": 9,
   "metadata": {},
   "outputs": [
    {
     "name": "stdout",
     "output_type": "stream",
     "text": [
      "Epoch 1/10\n",
      "9949/9949 [==============================] - 20s 2ms/step - loss: 0.0026 - accuracy: 0.9995 - val_loss: 1.3295e-08 - val_accuracy: 1.0000\n",
      "Epoch 2/10\n",
      "9949/9949 [==============================] - 19s 2ms/step - loss: 4.7119e-08 - accuracy: 1.0000 - val_loss: 1.5327e-11 - val_accuracy: 1.0000\n",
      "Epoch 3/10\n",
      "9949/9949 [==============================] - 19s 2ms/step - loss: 5.1035e-10 - accuracy: 1.0000 - val_loss: 7.6754e-13 - val_accuracy: 1.0000\n",
      "Epoch 4/10\n",
      "9949/9949 [==============================] - 17s 2ms/step - loss: 1.3855e-10 - accuracy: 1.0000 - val_loss: 2.3184e-13 - val_accuracy: 1.0000\n",
      "Epoch 5/10\n",
      "9949/9949 [==============================] - 17s 2ms/step - loss: 6.2547e-11 - accuracy: 1.0000 - val_loss: 1.3243e-13 - val_accuracy: 1.0000\n",
      "Epoch 6/10\n",
      "9949/9949 [==============================] - 18s 2ms/step - loss: 4.4833e-11 - accuracy: 1.0000 - val_loss: 8.5954e-14 - val_accuracy: 1.0000\n",
      "Epoch 7/10\n",
      "9949/9949 [==============================] - 23s 2ms/step - loss: 2.2834e-08 - accuracy: 1.0000 - val_loss: 1.0267e-14 - val_accuracy: 1.0000\n",
      "Epoch 8/10\n",
      "9949/9949 [==============================] - 19s 2ms/step - loss: 5.5675e-12 - accuracy: 1.0000 - val_loss: 9.8591e-15 - val_accuracy: 1.0000\n",
      "Epoch 9/10\n",
      "9949/9949 [==============================] - 18s 2ms/step - loss: 6.9708e-12 - accuracy: 1.0000 - val_loss: 9.1762e-15 - val_accuracy: 1.0000\n",
      "Epoch 10/10\n",
      "9949/9949 [==============================] - 17s 2ms/step - loss: 5.7227e-12 - accuracy: 1.0000 - val_loss: 8.8044e-15 - val_accuracy: 1.0000\n",
      "2488/2488 [==============================] - 3s 1ms/step - loss: 8.8044e-15 - accuracy: 1.0000\n",
      "Deep Learning Model Results\n",
      "              precision    recall  f1-score   support\n",
      "\n",
      "           1       1.00      1.00      1.00     79585\n",
      "\n",
      "    accuracy                           1.00     79585\n",
      "   macro avg       1.00      1.00      1.00     79585\n",
      "weighted avg       1.00      1.00      1.00     79585\n",
      "\n"
     ]
    }
   ],
   "source": [
    "# Deep learning: Feedforward Neural Network\n",
    "model = Sequential()\n",
    "model.add(Dense(64, activation='relu', input_shape=(X_train.shape[1],)))\n",
    "model.add(Dropout(0.3))\n",
    "model.add(Dense(32, activation='relu'))\n",
    "model.add(Dense(1, activation='sigmoid'))\n",
    "\n",
    "model.compile(optimizer='adam', loss='binary_crossentropy', metrics=['accuracy'])\n",
    "\n",
    "# Train\n",
    "history = model.fit(X_train, y_train, epochs=10, batch_size=32, validation_data=(X_test, y_test), verbose=1)\n",
    "\n",
    "# Evaluate\n",
    "loss, acc = model.evaluate(X_test, y_test)\n",
    "y_pred_dl = (model.predict(X_test) > 0.5).astype(int)\n",
    "\n",
    "print(\"Deep Learning Model Results\")\n",
    "print(classification_report(y_test, y_pred_dl))"
   ]
  },
  {
   "cell_type": "code",
   "execution_count": 10,
   "metadata": {},
   "outputs": [
    {
     "name": "stdout",
     "output_type": "stream",
     "text": [
      "Accuracy (Random Forest): 1.0\n",
      "Accuracy (Deep Learning): 1.0\n"
     ]
    },
    {
     "data": {
      "image/png": "[encoded data removed]",
      "text/plain": [
       "<Figure size 432x288 with 1 Axes>"
      ]
     },
     "metadata": {
      "needs_background": "light"
     },
     "output_type": "display_data"
    }
   ],
   "source": [
    "print(\"Accuracy (Random Forest):\", accuracy_score(y_test, y_pred_rf))\n",
    "print(\"Accuracy (Deep Learning):\", accuracy_score(y_test, y_pred_dl.flatten()))\n",
    "\n",
    "# Plot training history\n",
    "plt.plot(history.history['accuracy'], label='Train Accuracy')\n",
    "plt.plot(history.history['val_accuracy'], label='Val Accuracy')\n",
    "plt.title('DL Training History')\n",
    "plt.xlabel('Epochs')\n",
    "plt.ylabel('Accuracy')\n",
    "plt.legend()\n",
    "plt.show()"
   ]
  },
  {
   "cell_type": "code",
   "execution_count": null,
   "metadata": {},
   "outputs": [],
   "source": []
  }
 ],
 "metadata": {
  "kernelspec": {
   "display_name": "tensorflow2",
   "language": "python",
   "name": "tensorflow2"
  },
  "language_info": {
   "codemirror_mode": {
    "name": "ipython",
    "version": 3
   },
   "file_extension": ".py",
   "mimetype": "text/x-python",
   "name": "python",
   "nbconvert_exporter": "python",
   "pygments_lexer": "ipython3",
   "version": "3.6.8"
  },
  "toc": {
   "base_numbering": 1,
   "nav_menu": {},
   "number_sections": true,
   "sideBar": true,
   "skip_h1_title": false,
   "title_cell": "Table of Contents",
   "title_sidebar": "Contents",
   "toc_cell": false,
   "toc_position": {},
   "toc_section_display": true,
   "toc_window_display": false
  }
 },
 "nbformat": 4,
 "nbformat_minor": 2
}
